{
 "cells": [
  {
   "cell_type": "code",
   "execution_count": null,
   "metadata": {},
   "outputs": [],
   "source": [
    "import os\n",
    "from pathlib import Path\n",
    "\n",
    "import scanpy as sc\n",
    "import scrublet as scr\n",
    "from batchvae import BatchCorrector, SampleData, SampleDataHandler\n",
    "from batchvae.utils.logger import Logger"
   ]
  },
  {
   "cell_type": "code",
   "execution_count": null,
   "metadata": {},
   "outputs": [],
   "source": [
    "BASE_DIR_PATH = \"/home/yuyasato/work2/Projects/vasc_aging\"\n",
    "OUTPUT_DIR_PATH = \"/home/yuyasato/work2/Projects/vasc_aging/analysis/6.batch_removal/mouse/out/projects\"\n",
    "logger = Logger()\n",
    "\n",
    "os.environ[\"OMP_NUM_THREADS\"] = \"1\"  # OpenMPのスレッド数を1に設定\n",
    "os.environ[\"MKL_NUM_THREADS\"] = (\n",
    "    \"1\"  # MKL (Intel Math Kernel Library) のスレッド数を1に設定\n",
    ")\n",
    "SAMPLES = {\"GSM00001\": \"GSE00001\", \"GSM00002\": \"GSM00002\"}\n",
    "samples: list[SampleData] = []\n",
    "for sample_id in SAMPLES:\n",
    "    adata = sc.read_10x_h5(\n",
    "        f\"{BASE_DIR_PATH}/resources/{SAMPLES[sample_id]}/{sample_id}/counted/outs/filtered_feature_bc_matrix.h5\"\n",
    "    )\n",
    "    adata.var_names_make_unique()\n",
    "    logger.log(\"Simlulating doublets with Scrublet...\", \"info\")\n",
    "    # Scrubletを用い、doubletを予測\n",
    "    scrub = scr.Scrublet(adata.X)\n",
    "    doublet_scores, predicted_doublets = scrub.scrub_doublets()\n",
    "    adata.obs[\"doublet_score\"] = doublet_scores\n",
    "    adata.obs[\"predicted_doublets\"] = predicted_doublets\n",
    "    # QC and mitochondrial gene calculations\n",
    "    mt_prefix = \"mt-\"\n",
    "    adata.var[\"mt\"] = adata.var_names.str.startswith(mt_prefix)\n",
    "    logger.log(\"Calculating mito...\", \"info\")\n",
    "    sc.pp.calculate_qc_metrics(\n",
    "        adata, qc_vars=[\"mt\"], percent_top=None, log1p=False, inplace=True\n",
    "    )\n",
    "    adata = adata[adata.obs[\"n_genes_by_counts\"] >= 200]  # type: ignore\n",
    "    adata = adata[adata.obs[\"n_genes_by_counts\"] <= 5000]  # type: ignore\n",
    "    adata = adata[adata.obs[\"pct_counts_mt\"] <= 5]  # type: ignore\n",
    "    adata = adata[adata.obs[\"predicted_doublets\"] == False]  # type: ignore\n",
    "    samples.append(SampleData(adata=adata, logger=logger))\n",
    "    del adata\n",
    "combined = SampleDataHandler(samples, logger=logger).combine()\n",
    "combined.adata.raw = combined.adata.copy()\n",
    "combined.write(f\"{OUTPUT_DIR_PATH}/combined\")\n",
    "combined = SampleData(adata=combined.adata, logger=logger)\n",
    "\n",
    "adata = sc.read_h5ad(f\"{OUTPUT_DIR_PATH}/combined.h5ad\")\n",
    "adata.raw = adata.copy()\n",
    "combined = SampleData(adata=adata, logger=logger)\n",
    "corrected = BatchCorrector(\n",
    "    combined=combined, logger=logger, batch_key=\"project\"\n",
    ").correct(dir_path=Path(f\"{OUTPUT_DIR_PATH}\"))"
   ]
  }
 ],
 "metadata": {
  "kernelspec": {
   "display_name": "batchVAE",
   "language": "python",
   "name": "python3"
  },
  "language_info": {
   "name": "python",
   "version": "3.12.7"
  }
 },
 "nbformat": 4,
 "nbformat_minor": 2
}
